{
 "cells": [
  {
   "cell_type": "code",
   "execution_count": 4,
   "metadata": {},
   "outputs": [],
   "source": [
    "import numpy as np\n",
    "import pandas as pd\n",
    "import os\n",
    "import gc"
   ]
  },
  {
   "cell_type": "code",
   "execution_count": 18,
   "metadata": {},
   "outputs": [],
   "source": [
    "import matplotlib.pyplot as plt\n",
    "%matplotlib inline"
   ]
  },
  {
   "cell_type": "code",
   "execution_count": 2,
   "metadata": {},
   "outputs": [],
   "source": [
    "train = pd.read_csv(\"./data/train.csv\")\n",
    "test = pd.read_csv(\"./data/test.csv\")"
   ]
  },
  {
   "cell_type": "code",
   "execution_count": 5,
   "metadata": {},
   "outputs": [
    {
     "data": {
      "text/plain": [
       "21"
      ]
     },
     "execution_count": 5,
     "metadata": {},
     "output_type": "execute_result"
    }
   ],
   "source": [
    "train_id = train[[\"ID\", \"target\"]].copy()\n",
    "\n",
    "del train\n",
    "gc.collect()"
   ]
  },
  {
   "cell_type": "code",
   "execution_count": 9,
   "metadata": {},
   "outputs": [
    {
     "data": {
      "text/plain": [
       "10"
      ]
     },
     "execution_count": 9,
     "metadata": {},
     "output_type": "execute_result"
    }
   ],
   "source": [
    "\"0123456789abcdef\".index(\"a\")"
   ]
  },
  {
   "cell_type": "code",
   "execution_count": 27,
   "metadata": {},
   "outputs": [],
   "source": [
    "def to_int(str16bit):\n",
    "    try:\n",
    "        result = 0\n",
    "        for tok in str16bit:\n",
    "            result *= 16\n",
    "            result += \"0123456789abcdef\".index(tok)\n",
    "    except:\n",
    "        print(\"Error\", str16bit)\n",
    "    return result"
   ]
  },
  {
   "cell_type": "code",
   "execution_count": 14,
   "metadata": {},
   "outputs": [],
   "source": [
    "train_id[\"int_id\"] = train_id.ID.apply(to_int)"
   ]
  },
  {
   "cell_type": "code",
   "execution_count": 19,
   "metadata": {},
   "outputs": [
    {
     "data": {
      "image/png": "[encoded data removed]",
      "text/plain": [
       "<matplotlib.figure.Figure at 0x10841828>"
      ]
     },
     "metadata": {},
     "output_type": "display_data"
    }
   ],
   "source": [
    "train_id.int_id.plot(kind=\"hist\")\n",
    "plt.show()"
   ]
  },
  {
   "cell_type": "code",
   "execution_count": 28,
   "metadata": {},
   "outputs": [
    {
     "name": "stdout",
     "output_type": "stream",
     "text": [
      "Error 0.0\n"
     ]
    },
    {
     "data": {
      "text/html": [
       "<div>\n",
       "<style scoped>\n",
       "    .dataframe tbody tr th:only-of-type {\n",
       "        vertical-align: middle;\n",
       "    }\n",
       "\n",
       "    .dataframe tbody tr th {\n",
       "        vertical-align: top;\n",
       "    }\n",
       "\n",
       "    .dataframe thead th {\n",
       "        text-align: right;\n",
       "    }\n",
       "</style>\n",
       "<table border=\"1\" class=\"dataframe\">\n",
       "  <thead>\n",
       "    <tr style=\"text-align: right;\">\n",
       "      <th></th>\n",
       "      <th>ID</th>\n",
       "      <th>int_id</th>\n",
       "    </tr>\n",
       "  </thead>\n",
       "  <tbody>\n",
       "    <tr>\n",
       "      <th>0</th>\n",
       "      <td>000137c73</td>\n",
       "      <td>1277043</td>\n",
       "    </tr>\n",
       "    <tr>\n",
       "      <th>1</th>\n",
       "      <td>00021489f</td>\n",
       "      <td>2181279</td>\n",
       "    </tr>\n",
       "    <tr>\n",
       "      <th>2</th>\n",
       "      <td>0004d7953</td>\n",
       "      <td>5077331</td>\n",
       "    </tr>\n",
       "    <tr>\n",
       "      <th>3</th>\n",
       "      <td>00056a333</td>\n",
       "      <td>5677875</td>\n",
       "    </tr>\n",
       "    <tr>\n",
       "      <th>4</th>\n",
       "      <td>00056d8eb</td>\n",
       "      <td>5691627</td>\n",
       "    </tr>\n",
       "  </tbody>\n",
       "</table>\n",
       "</div>"
      ],
      "text/plain": [
       "          ID   int_id\n",
       "0  000137c73  1277043\n",
       "1  00021489f  2181279\n",
       "2  0004d7953  5077331\n",
       "3  00056a333  5677875\n",
       "4  00056d8eb  5691627"
      ]
     },
     "execution_count": 28,
     "metadata": {},
     "output_type": "execute_result"
    }
   ],
   "source": [
    "test_id = test[[\"ID\"]].copy()\n",
    "test_id[\"int_id\"] = test_id.ID.apply(to_int)\n",
    "test_id.head()"
   ]
  },
  {
   "cell_type": "code",
   "execution_count": 31,
   "metadata": {},
   "outputs": [
    {
     "data": {
      "text/html": [
       "<div>\n",
       "<style scoped>\n",
       "    .dataframe tbody tr th:only-of-type {\n",
       "        vertical-align: middle;\n",
       "    }\n",
       "\n",
       "    .dataframe tbody tr th {\n",
       "        vertical-align: top;\n",
       "    }\n",
       "\n",
       "    .dataframe thead th {\n",
       "        text-align: right;\n",
       "    }\n",
       "</style>\n",
       "<table border=\"1\" class=\"dataframe\">\n",
       "  <thead>\n",
       "    <tr style=\"text-align: right;\">\n",
       "      <th></th>\n",
       "      <th>ID</th>\n",
       "      <th>48df886f9</th>\n",
       "      <th>0deb4b6a8</th>\n",
       "      <th>34b15f335</th>\n",
       "      <th>a8cb14b00</th>\n",
       "      <th>2f0771a37</th>\n",
       "      <th>30347e683</th>\n",
       "      <th>d08d1fbe3</th>\n",
       "      <th>6ee66e115</th>\n",
       "      <th>20aa07010</th>\n",
       "      <th>...</th>\n",
       "      <th>3ecc09859</th>\n",
       "      <th>9281abeea</th>\n",
       "      <th>8675bec0b</th>\n",
       "      <th>3a13ed79a</th>\n",
       "      <th>f677d4d13</th>\n",
       "      <th>71b203550</th>\n",
       "      <th>137efaa80</th>\n",
       "      <th>fb36b89d9</th>\n",
       "      <th>7e293fbaf</th>\n",
       "      <th>9fc776466</th>\n",
       "    </tr>\n",
       "  </thead>\n",
       "  <tbody>\n",
       "    <tr>\n",
       "      <th>49342</th>\n",
       "      <td>0.0</td>\n",
       "      <td>0.0</td>\n",
       "      <td>0.0</td>\n",
       "      <td>0.0</td>\n",
       "      <td>0.0</td>\n",
       "      <td>0.0</td>\n",
       "      <td>0.0</td>\n",
       "      <td>0.0</td>\n",
       "      <td>0.0</td>\n",
       "      <td>0.0</td>\n",
       "      <td>...</td>\n",
       "      <td>NaN</td>\n",
       "      <td>NaN</td>\n",
       "      <td>NaN</td>\n",
       "      <td>NaN</td>\n",
       "      <td>NaN</td>\n",
       "      <td>NaN</td>\n",
       "      <td>NaN</td>\n",
       "      <td>NaN</td>\n",
       "      <td>NaN</td>\n",
       "      <td>NaN</td>\n",
       "    </tr>\n",
       "  </tbody>\n",
       "</table>\n",
       "<p>1 rows × 4992 columns</p>\n",
       "</div>"
      ],
      "text/plain": [
       "        ID  48df886f9  0deb4b6a8  34b15f335  a8cb14b00  2f0771a37  30347e683  \\\n",
       "49342  0.0        0.0        0.0        0.0        0.0        0.0        0.0   \n",
       "\n",
       "       d08d1fbe3  6ee66e115  20aa07010    ...      3ecc09859  9281abeea  \\\n",
       "49342        0.0        0.0        0.0    ...            NaN        NaN   \n",
       "\n",
       "       8675bec0b  3a13ed79a  f677d4d13  71b203550  137efaa80  fb36b89d9  \\\n",
       "49342        NaN        NaN        NaN        NaN        NaN        NaN   \n",
       "\n",
       "       7e293fbaf  9fc776466  \n",
       "49342        NaN        NaN  \n",
       "\n",
       "[1 rows x 4992 columns]"
      ]
     },
     "execution_count": 31,
     "metadata": {},
     "output_type": "execute_result"
    }
   ],
   "source": [
    "test[test.ID == \"0.0\"]"
   ]
  },
  {
   "cell_type": "code",
   "execution_count": 35,
   "metadata": {},
   "outputs": [
    {
     "data": {
      "image/png": "[encoded data removed]",
      "text/plain": [
       "<matplotlib.figure.Figure at 0x6af8b0f0>"
      ]
     },
     "metadata": {},
     "output_type": "display_data"
    }
   ],
   "source": [
    "x = train_id.int_id.sort_values().values\n",
    "y = np.log1p(train_id.sort_values(\"int_id\").target.values)\n",
    "\n",
    "plt.scatter(x, y)\n",
    "plt.show()"
   ]
  },
  {
   "cell_type": "code",
   "execution_count": 37,
   "metadata": {},
   "outputs": [
    {
     "data": {
      "image/png": "[encoded data removed]",
      "text/plain": [
       "<matplotlib.figure.Figure at 0xfd42fd0>"
      ]
     },
     "metadata": {},
     "output_type": "display_data"
    }
   ],
   "source": [
    "y = np.log1p(train_id.sort_values(\"target\").target.values)\n",
    "x = np.arange(len(y))\n",
    "\n",
    "plt.scatter(x, y)\n",
    "plt.show()"
   ]
  },
  {
   "cell_type": "code",
   "execution_count": 41,
   "metadata": {},
   "outputs": [
    {
     "data": {
      "text/plain": [
       "2968000.00       1\n",
       "2580000.00       1\n",
       "8057500.00       1\n",
       "2842000.00       1\n",
       "16200000.00      1\n",
       "3266666.66       1\n",
       "468571.42        1\n",
       "5225000.00       1\n",
       "920000.00        1\n",
       "1186666.66       1\n",
       "306000.00        1\n",
       "1988666.66       1\n",
       "12400000.00      1\n",
       "858000.00        1\n",
       "3627000.00       1\n",
       "22200000.00      1\n",
       "1879000.00       1\n",
       "155000.00        1\n",
       "6140000.00       1\n",
       "5223600.00       1\n",
       "342000.00        1\n",
       "429000.00        1\n",
       "2318000.00       1\n",
       "8780000.00       1\n",
       "1175000.00       1\n",
       "5933333.34       1\n",
       "237000.00        1\n",
       "1945000.00       1\n",
       "866000.00        1\n",
       "153142.86        1\n",
       "              ... \n",
       "15000000.00     21\n",
       "60000.00        24\n",
       "50000.00        25\n",
       "30000.00        26\n",
       "1800000.00      28\n",
       "700000.00       28\n",
       "1500000.00      30\n",
       "7000000.00      31\n",
       "1400000.00      31\n",
       "1600000.00      33\n",
       "300000.00       37\n",
       "30000000.00     39\n",
       "500000.00       39\n",
       "1200000.00      39\n",
       "40000000.00     40\n",
       "40000.00        40\n",
       "100000.00       44\n",
       "800000.00       59\n",
       "3000000.00      61\n",
       "8000000.00      65\n",
       "600000.00       84\n",
       "6000000.00      88\n",
       "5000000.00     101\n",
       "200000.00      113\n",
       "400000.00      115\n",
       "1000000.00     129\n",
       "4000000.00     148\n",
       "20000000.00    156\n",
       "10000000.00    199\n",
       "2000000.00     207\n",
       "Name: target, Length: 1413, dtype: int64"
      ]
     },
     "execution_count": 41,
     "metadata": {},
     "output_type": "execute_result"
    }
   ],
   "source": [
    "train_id.sort_values(\"target\").target.value_counts().sort_values()"
   ]
  },
  {
   "cell_type": "code",
   "execution_count": 54,
   "metadata": {},
   "outputs": [
    {
     "data": {
      "text/html": [
       "<div>\n",
       "<style scoped>\n",
       "    .dataframe tbody tr th:only-of-type {\n",
       "        vertical-align: middle;\n",
       "    }\n",
       "\n",
       "    .dataframe tbody tr th {\n",
       "        vertical-align: top;\n",
       "    }\n",
       "\n",
       "    .dataframe thead th {\n",
       "        text-align: right;\n",
       "    }\n",
       "</style>\n",
       "<table border=\"1\" class=\"dataframe\">\n",
       "  <thead>\n",
       "    <tr style=\"text-align: right;\">\n",
       "      <th></th>\n",
       "      <th>ID</th>\n",
       "      <th>target</th>\n",
       "      <th>int_id</th>\n",
       "      <th>target_str</th>\n",
       "      <th>target_tail</th>\n",
       "    </tr>\n",
       "  </thead>\n",
       "  <tbody>\n",
       "    <tr>\n",
       "      <th>0</th>\n",
       "      <td>000d6aaf2</td>\n",
       "      <td>38000000.0</td>\n",
       "      <td>14068466</td>\n",
       "      <td>38000000.0</td>\n",
       "      <td>000.0</td>\n",
       "    </tr>\n",
       "    <tr>\n",
       "      <th>1</th>\n",
       "      <td>000fbd867</td>\n",
       "      <td>600000.0</td>\n",
       "      <td>16504935</td>\n",
       "      <td>600000.0</td>\n",
       "      <td>000.0</td>\n",
       "    </tr>\n",
       "    <tr>\n",
       "      <th>2</th>\n",
       "      <td>0027d6b71</td>\n",
       "      <td>10000000.0</td>\n",
       "      <td>41773937</td>\n",
       "      <td>10000000.0</td>\n",
       "      <td>000.0</td>\n",
       "    </tr>\n",
       "    <tr>\n",
       "      <th>3</th>\n",
       "      <td>0028cbf45</td>\n",
       "      <td>2000000.0</td>\n",
       "      <td>42778437</td>\n",
       "      <td>2000000.0</td>\n",
       "      <td>000.0</td>\n",
       "    </tr>\n",
       "    <tr>\n",
       "      <th>4</th>\n",
       "      <td>002a68644</td>\n",
       "      <td>14400000.0</td>\n",
       "      <td>44467780</td>\n",
       "      <td>14400000.0</td>\n",
       "      <td>000.0</td>\n",
       "    </tr>\n",
       "  </tbody>\n",
       "</table>\n",
       "</div>"
      ],
      "text/plain": [
       "          ID      target    int_id  target_str target_tail\n",
       "0  000d6aaf2  38000000.0  14068466  38000000.0       000.0\n",
       "1  000fbd867    600000.0  16504935    600000.0       000.0\n",
       "2  0027d6b71  10000000.0  41773937  10000000.0       000.0\n",
       "3  0028cbf45   2000000.0  42778437   2000000.0       000.0\n",
       "4  002a68644  14400000.0  44467780  14400000.0       000.0"
      ]
     },
     "execution_count": 54,
     "metadata": {},
     "output_type": "execute_result"
    }
   ],
   "source": [
    "train_id[\"target_str\"] = train_id.target.apply(str)\n",
    "train_id[\"target_tail\"] = train_id.target_str.apply(lambda x: x[-5:])\n",
    "train_id.head()"
   ]
  },
  {
   "cell_type": "code",
   "execution_count": 56,
   "metadata": {},
   "outputs": [
    {
     "data": {
      "text/plain": [
       "target_tail\n",
       "909.1       1\n",
       "84.22       1\n",
       "63.64       1\n",
       "625.0       1\n",
       "61.54       1\n",
       "720.0       1\n",
       "55.56       1\n",
       "51.72       1\n",
       "36.36       1\n",
       "30.76       1\n",
       "692.3       1\n",
       "27.28       1\n",
       "157.9       1\n",
       "15.38       1\n",
       "11.12       1\n",
       "125.0       1\n",
       "250.0       2\n",
       "307.7       2\n",
       "69.24       2\n",
       "090.9       2\n",
       "77.78       2\n",
       "44.44       2\n",
       "22.22       3\n",
       "750.0       4\n",
       "88.88       4\n",
       "14.28       5\n",
       "85.72       6\n",
       "28.58       8\n",
       "400.0       9\n",
       "71.42       9\n",
       "42.86      10\n",
       "57.14      10\n",
       "200.0      13\n",
       "800.0      14\n",
       "600.0      15\n",
       "500.0      51\n",
       "33.34     142\n",
       "66.66     146\n",
       "000.0    3982\n",
       "dtype: int64"
      ]
     },
     "execution_count": 56,
     "metadata": {},
     "output_type": "execute_result"
    }
   ],
   "source": [
    "train_id.groupby(\"target_tail\").size().sort_values()"
   ]
  },
  {
   "cell_type": "code",
   "execution_count": 36,
   "metadata": {},
   "outputs": [
    {
     "data": {
      "text/html": [
       "<div>\n",
       "<style scoped>\n",
       "    .dataframe tbody tr th:only-of-type {\n",
       "        vertical-align: middle;\n",
       "    }\n",
       "\n",
       "    .dataframe tbody tr th {\n",
       "        vertical-align: top;\n",
       "    }\n",
       "\n",
       "    .dataframe thead th {\n",
       "        text-align: right;\n",
       "    }\n",
       "</style>\n",
       "<table border=\"1\" class=\"dataframe\">\n",
       "  <thead>\n",
       "    <tr style=\"text-align: right;\">\n",
       "      <th></th>\n",
       "      <th>ID</th>\n",
       "      <th>target</th>\n",
       "      <th>int_id</th>\n",
       "    </tr>\n",
       "  </thead>\n",
       "  <tbody>\n",
       "  </tbody>\n",
       "</table>\n",
       "</div>"
      ],
      "text/plain": [
       "Empty DataFrame\n",
       "Columns: [ID, target, int_id]\n",
       "Index: []"
      ]
     },
     "execution_count": 36,
     "metadata": {},
     "output_type": "execute_result"
    }
   ],
   "source": [
    "train_id[train_id.int_id.isin(test_id.int_id.unique())].head()"
   ]
  },
  {
   "cell_type": "code",
   "execution_count": 33,
   "metadata": {},
   "outputs": [
    {
     "data": {
      "image/png": "[encoded data removed]",
      "text/plain": [
       "<matplotlib.figure.Figure at 0xf068710>"
      ]
     },
     "metadata": {},
     "output_type": "display_data"
    }
   ],
   "source": [
    "y = train_id.int_id.sort_values().values\n",
    "x = np.arange(len(y))\n",
    "\n",
    "plt.scatter(x, y, alpha=.5, c=\"r\")\n",
    "\n",
    "y_test = test_id.int_id.sort_values().values\n",
    "x_test = np.arange(len(y_test))\n",
    "\n",
    "plt.scatter(x_test, y_test, alpha=.5, c=\"c\")\n",
    "\n",
    "plt.show()"
   ]
  }
 ],
 "metadata": {
  "anaconda-cloud": {},
  "kernelspec": {
   "display_name": "Python [conda env:python3]",
   "language": "python",
   "name": "conda-env-python3-py"
  },
  "language_info": {
   "codemirror_mode": {
    "name": "ipython",
    "version": 3
   },
   "file_extension": ".py",
   "mimetype": "text/x-python",
   "name": "python",
   "nbconvert_exporter": "python",
   "pygments_lexer": "ipython3",
   "version": "3.6.1"
  },
  "toc": {
   "nav_menu": {
    "height": "11px",
    "width": "252px"
   },
   "navigate_menu": true,
   "number_sections": true,
   "sideBar": true,
   "threshold": 4,
   "toc_cell": false,
   "toc_section_display": "block",
   "toc_window_display": true
  }
 },
 "nbformat": 4,
 "nbformat_minor": 2
}
